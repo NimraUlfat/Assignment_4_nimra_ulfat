{
  "nbformat": 4,
  "nbformat_minor": 0,
  "metadata": {
    "colab": {
      "provenance": [],
      "authorship_tag": "ABX9TyNGsPbFXgsprhcJUIgKpAWC",
      "include_colab_link": true
    },
    "kernelspec": {
      "name": "python3",
      "display_name": "Python 3"
    },
    "language_info": {
      "name": "python"
    }
  },
  "cells": [
    {
      "cell_type": "markdown",
      "metadata": {
        "id": "view-in-github",
        "colab_type": "text"
      },
      "source": [
        "<a href=\"https://colab.research.google.com/github/NimraUlfat/Assignment_4_nimra_ulfat/blob/main/01_expressions.ipynb\" target=\"_parent\"><img src=\"https://colab.research.google.com/assets/colab-badge.svg\" alt=\"Open In Colab\"/></a>"
      ]
    },
    {
      "cell_type": "markdown",
      "source": [
        "# 01_expressions"
      ],
      "metadata": {
        "id": "7nsKQq-VxqI2"
      }
    },
    {
      "cell_type": "markdown",
      "source": [
        "01_dicesimulator"
      ],
      "metadata": {
        "id": "-vk5MP6nxu5R"
      }
    },
    {
      "cell_type": "code",
      "source": [
        "# Import the random library which lets us simulate random things like dice!\n",
        "import random\n",
        "\n",
        "# Number of sides on each die to roll\n",
        "num_side = 6\n",
        "\n",
        "def roll_dice():\n",
        "    die1: int = random.randint(1, num_side)\n",
        "    die2: int = random.randint(1, num_side)\n",
        "    total: int = die1 + die2\n",
        "    print(\"Total numbers of two dice:\", total)\n",
        "\n",
        "def main():\n",
        "    die1: int = 10\n",
        "    print(\"die1 in main() starts as: \" + str(die1))\n",
        "    roll_dice()\n",
        "    roll_dice()\n",
        "    roll_dice()\n",
        "    print(\"die1 in main() is: \" + str(die1))\n",
        "\n",
        "# to call the main() function.\n",
        "if __name__ == '__main__':\n",
        "    main()"
      ],
      "metadata": {
        "colab": {
          "base_uri": "https://localhost:8080/"
        },
        "id": "m4eDAXDvyPZF",
        "outputId": "9c77b83c-184d-45ef-d4be-a44c3b6b6280"
      },
      "execution_count": 1,
      "outputs": [
        {
          "output_type": "stream",
          "name": "stdout",
          "text": [
            "die1 in main() starts as: 10\n",
            "Total numbers of two dice: 5\n",
            "Total numbers of two dice: 11\n",
            "Total numbers of two dice: 7\n",
            "die1 in main() is: 10\n"
          ]
        }
      ]
    },
    {
      "cell_type": "markdown",
      "source": [
        "02_e=mc2"
      ],
      "metadata": {
        "id": "mkvpd4PRyqNO"
      }
    },
    {
      "cell_type": "code",
      "source": [
        "# Speed of light constant in meters per second\n",
        "C = 299792458  # m/s\n",
        "\n",
        "def calculate_energy(mass):\n",
        "    # Using Einstein's equation: E = m * C^2\n",
        "    energy = mass * C**2\n",
        "    return energy\n",
        "\n",
        "def main():\n",
        "    while True:\n",
        "        # Take input from the user for mass in kilograms\n",
        "        try:\n",
        "            mass = float(input(\"Enter kilos of mass: \"))\n",
        "            if mass <= 0:\n",
        "                print(\"Please enter a positive number for mass.\")\n",
        "                continue\n",
        "\n",
        "            # Calculate the energy using the formula\n",
        "            energy = calculate_energy(mass)\n",
        "\n",
        "            # Print out the results\n",
        "            print(\"\\ne = m * C^2...\\n\")\n",
        "            print(f\"m = {mass} kg\")\n",
        "            print(f\"C = {C} m/s\")\n",
        "            print(f\"{energy} joules of energy!\\n\")\n",
        "        except ValueError:\n",
        "            print(\"Invalid input. Please enter a valid number for mass.\")\n",
        "            continue\n",
        "\n",
        "if __name__ == '__main__':\n",
        "    main()\n"
      ],
      "metadata": {
        "colab": {
          "base_uri": "https://localhost:8080/"
        },
        "id": "N91CnQwQyu95",
        "outputId": "231b943c-d614-4399-df8c-0753aaf46ce2"
      },
      "execution_count": null,
      "outputs": [
        {
          "output_type": "stream",
          "name": "stdout",
          "text": [
            "Enter kilos of mass: 6\n",
            "\n",
            "e = m * C^2...\n",
            "\n",
            "m = 6.0 kg\n",
            "C = 299792458 m/s\n",
            "5.3925310724209056e+17 joules of energy!\n",
            "\n"
          ]
        }
      ]
    },
    {
      "cell_type": "markdown",
      "source": [
        "03_feet_to_inches"
      ],
      "metadata": {
        "id": "uXJMP4-Iy_nQ"
      }
    },
    {
      "cell_type": "code",
      "source": [
        "# Conversion factor. There are 12 inches in 1 foot.\n",
        "INCHES_IN_FOOT: int = 12\n",
        "\n",
        "def main() -> None:\n",
        "    try:\n",
        "        feet: float = float(input(\"Enter number of feet: \"))  # Get the number of feet, ensure valid float input.\n",
        "        # Perform the conversion\n",
        "        inches: float = feet * INCHES_IN_FOOT\n",
        "        print(f\"That is {inches} inches!\")\n",
        "    except ValueError:\n",
        "        # Handle invalid input gracefully.\n",
        "        print(\"Invalid input! Please enter a numeric value.\")\n",
        "\n",
        "# Call function\n",
        "if __name__ == '__main__':\n",
        "    main()\n"
      ],
      "metadata": {
        "colab": {
          "base_uri": "https://localhost:8080/"
        },
        "id": "ENRPKocU1Smf",
        "outputId": "bb0beeee-68ea-4793-cbcb-84582c5cfdaf"
      },
      "execution_count": 4,
      "outputs": [
        {
          "output_type": "stream",
          "name": "stdout",
          "text": [
            "Enter number of feet: 56\n",
            "That is 672.0 inches!\n"
          ]
        }
      ]
    },
    {
      "cell_type": "markdown",
      "source": [
        "04_pythagorean_theorem"
      ],
      "metadata": {
        "id": "ErITZDAe2SWA"
      }
    },
    {
      "cell_type": "code",
      "source": [
        "# Import the math library to use the sqrt function\n",
        "import math\n",
        "def main() -> None:\n",
        "    try:\n",
        "        # Get the two side lengths from the user and cast them to be numbers\n",
        "        ab: float = float(input(\"Enter the length of AB: \"))\n",
        "        ac: float = float(input(\"Enter the length of AC: \"))\n",
        "\n",
        "        # Calculate the hypotenuse using the Pythagorean theorem\n",
        "        bc: float = math.sqrt(ab**2 + ac**2)  # formula for the hypotenuse\n",
        "\n",
        "        # Display the result\n",
        "        print(f\"The length of BC (the hypotenuse) is: {bc:.2f}\")  # Rounded to 2 decimal places for clarity\n",
        "\n",
        "    except ValueError:\n",
        "        print(\"Invalid input! Please enter numeric values.\")  # Handle non-numeric inputs\n",
        "\n",
        "\n",
        "if __name__ == '__main__':\n",
        "    main()\n"
      ],
      "metadata": {
        "colab": {
          "base_uri": "https://localhost:8080/"
        },
        "id": "Tpyaydi42Wlw",
        "outputId": "ebb8769e-5246-4b74-c6e4-c9b466baa128"
      },
      "execution_count": 5,
      "outputs": [
        {
          "output_type": "stream",
          "name": "stdout",
          "text": [
            "Enter the length of AB: 5\n",
            "Enter the length of AC: 6\n",
            "The length of BC (the hypotenuse) is: 7.81\n"
          ]
        }
      ]
    },
    {
      "cell_type": "markdown",
      "source": [
        "05_remainder_division"
      ],
      "metadata": {
        "id": "yoUTe8-a26aU"
      }
    },
    {
      "cell_type": "code",
      "source": [
        "def main() -> None:\n",
        "    try:\n",
        "        # Get the numbers we want to divide\n",
        "        dividend: int = int(input(\"Please enter an integer to be divided: \"))\n",
        "        divisor: int = int(input(\"Please enter an integer to divide by: \"))\n",
        "\n",
        "        # Handle division by zero\n",
        "        if divisor == 0:\n",
        "            print(\"Error: Division by zero is not allowed.\")\n",
        "            return\n",
        "\n",
        "        # Perform the division and calculate the quotient and remainder\n",
        "        quotient: int = dividend // divisor  # Integer division (floor division)\n",
        "        remainder: int = dividend % divisor  # Modulo operation to get remainder\n",
        "\n",
        "        # Display the result using f-string formatting\n",
        "        print(f\"The result of this division is {quotient} with a remainder of {remainder}.\")\n",
        "\n",
        "    except ValueError:\n",
        "        print(\"Invalid input! Please enter valid integers.\")  # Handle non-integer input\n",
        "\n",
        "# Call function\n",
        "if __name__ == '__main__':\n",
        "    main()\n"
      ],
      "metadata": {
        "colab": {
          "base_uri": "https://localhost:8080/"
        },
        "id": "JprL_bUj29eL",
        "outputId": "e0cbdb06-0b08-4216-cad9-f40f3c12a1f3"
      },
      "execution_count": 8,
      "outputs": [
        {
          "output_type": "stream",
          "name": "stdout",
          "text": [
            "Please enter an integer to be divided: 5\n",
            "Please enter an integer to divide by: 6\n",
            "The result of this division is 0 with a remainder of 5.\n"
          ]
        }
      ]
    },
    {
      "cell_type": "markdown",
      "source": [
        "06_rolldice"
      ],
      "metadata": {
        "id": "leZOpOh53Shv"
      }
    },
    {
      "cell_type": "code",
      "source": [
        "\"\"\"\n",
        "Simulate rolling two dice and print the results of each roll as well as the total.\n",
        "\"\"\"\n",
        "\n",
        "# Import the random library to simulate rolling dice\n",
        "import random\n",
        "\n",
        "# Number of sides on each die\n",
        "NUM_SIDES: int = 6\n",
        "\n",
        "def main(seed: int | None = None) -> None:\n",
        "    \"\"\"\n",
        "    Simulates rolling two dice and prints the results.\n",
        "\n",
        "    Args:\n",
        "        seed (int | None): Optional seed value for reproducibility.\n",
        "    \"\"\"\n",
        "    # Setting a seed is useful for debugging\n",
        "    if seed is not None:\n",
        "        random.seed(seed)\n",
        "\n",
        "    # Roll the dice\n",
        "    die1: int = random.randint(1, NUM_SIDES)\n",
        "    die2: int = random.randint(1, NUM_SIDES)\n",
        "\n",
        "    # Calculate the total\n",
        "    total: int = die1 + die2\n",
        "\n",
        "    # Print results using f-strings for clarity\n",
        "    print(f\"Dice have {NUM_SIDES} sides each.\")\n",
        "    print(f\"First die: {die1}\")\n",
        "    print(f\"Second die: {die2}\")\n",
        "    print(f\"Total of two dice: {total}\")\n",
        "\n",
        "# Call Function\n",
        "if __name__ == '__main__':\n",
        "    main()\n"
      ],
      "metadata": {
        "colab": {
          "base_uri": "https://localhost:8080/"
        },
        "id": "O1HgTH6u3VsE",
        "outputId": "d6c87da1-9cae-4981-f4d1-ad2ef449f44c"
      },
      "execution_count": 9,
      "outputs": [
        {
          "output_type": "stream",
          "name": "stdout",
          "text": [
            "Dice have 6 sides each.\n",
            "First die: 1\n",
            "Second die: 4\n",
            "Total of two dice: 5\n"
          ]
        }
      ]
    },
    {
      "cell_type": "markdown",
      "source": [
        "06_seconds_in_year"
      ],
      "metadata": {
        "id": "PfejzsLV3glV"
      }
    },
    {
      "cell_type": "code",
      "source": [
        "# Useful constants to help make the math easier and cleaner!\n",
        "DAYS_PER_YEAR: int = 365\n",
        "HOURS_PER_DAY: int = 24\n",
        "MIN_PER_HOUR: int = 60\n",
        "SEC_PER_MIN: int = 60\n",
        "\n",
        "def main() -> None:\n",
        "    \"\"\"\n",
        "    Calculates and prints the number of seconds in a year using predefined constants.\n",
        "    \"\"\"\n",
        "    # Calculate the number of seconds in a year\n",
        "    seconds_per_year: int = DAYS_PER_YEAR * HOURS_PER_DAY * MIN_PER_HOUR * SEC_PER_MIN\n",
        "\n",
        "    # Print the result using an f-string\n",
        "    print(f\"There are {seconds_per_year} seconds in a year!\")\n",
        "\n",
        "# Call Function\n",
        "if __name__ == '__main__':\n",
        "    main()\n"
      ],
      "metadata": {
        "colab": {
          "base_uri": "https://localhost:8080/"
        },
        "id": "SV2AmQwZ3kwq",
        "outputId": "9fdba421-dbb6-4305-ac5b-9e6fc94a6a0d"
      },
      "execution_count": 10,
      "outputs": [
        {
          "output_type": "stream",
          "name": "stdout",
          "text": [
            "There are 31536000 seconds in a year!\n"
          ]
        }
      ]
    },
    {
      "cell_type": "markdown",
      "source": [
        "07_tiny_mad_lib"
      ],
      "metadata": {
        "id": "dH7DhOY-3vBz"
      }
    },
    {
      "cell_type": "code",
      "source": [
        "SENTENCE_START: str = \"Panaversity is fun. I learned to program and used Python to make my \"  # adjective noun verb\n",
        "\n",
        "def main() -> None:\n",
        "    \"\"\"\n",
        "    Generates an ad-lib style sentence using user-provided words.\n",
        "    \"\"\"\n",
        "    # Get the three inputs from the user and strip whitespace\n",
        "    adjective: str = input(\"Please type an adjective and press enter: \").strip()\n",
        "    noun: str = input(\"Please type a noun and press enter: \").strip()\n",
        "    verb: str = input(\"Please type a verb and press enter: \").strip()\n",
        "\n",
        "    # Join the inputs together with the sentence starter\n",
        "    print(f\"{SENTENCE_START}{adjective} {noun} {verb}!\")\n",
        "\n",
        "# Ensure script runs only when executed directly\n",
        "if __name__ == '__main__':\n",
        "    main()\n"
      ],
      "metadata": {
        "colab": {
          "base_uri": "https://localhost:8080/"
        },
        "id": "aPX5cVT_31Gc",
        "outputId": "2b1313b6-69fe-4d2a-c31f-e5a795362a5a"
      },
      "execution_count": 11,
      "outputs": [
        {
          "output_type": "stream",
          "name": "stdout",
          "text": [
            "Please type an adjective and press enter: good\n",
            "Please type a noun and press enter: Nimra\n",
            "Please type a verb and press enter: do\n",
            "Panaversity is fun. I learned to program and used Python to make my good Nimra do!\n"
          ]
        }
      ]
    }
  ]
}