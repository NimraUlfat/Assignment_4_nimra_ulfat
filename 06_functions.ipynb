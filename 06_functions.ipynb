{
  "nbformat": 4,
  "nbformat_minor": 0,
  "metadata": {
    "colab": {
      "provenance": [],
      "authorship_tag": "ABX9TyMJq8+KQyouAwOUSzCAIlmf",
      "include_colab_link": true
    },
    "kernelspec": {
      "name": "python3",
      "display_name": "Python 3"
    },
    "language_info": {
      "name": "python"
    }
  },
  "cells": [
    {
      "cell_type": "markdown",
      "metadata": {
        "id": "view-in-github",
        "colab_type": "text"
      },
      "source": [
        "<a href=\"https://colab.research.google.com/github/NimraUlfat/Assignment_4_nimra_ulfat/blob/main/06_functions.ipynb\" target=\"_parent\"><img src=\"https://colab.research.google.com/assets/colab-badge.svg\" alt=\"Open In Colab\"/></a>"
      ]
    },
    {
      "cell_type": "markdown",
      "source": [
        "# 06_functions"
      ],
      "metadata": {
        "id": "ESCyy765iCRK"
      }
    },
    {
      "cell_type": "markdown",
      "source": [
        "00_averages"
      ],
      "metadata": {
        "id": "2rJc9mWMiIYB"
      }
    },
    {
      "cell_type": "code",
      "source": [
        "def average(a: float, b: float):\n",
        "    \"\"\"\n",
        "    Returns the number which is halfway between a and b\n",
        "    \"\"\"\n",
        "    sum = a + b  # Add the two numbers\n",
        "    return sum / 2  # Divide the sum by 2 to find the average\n",
        "\n",
        "def main():\n",
        "    # Calculate average for different pairs of numbers\n",
        "    avg_1 = average(0, 10)  # First pair: 0 and 10\n",
        "    avg_2 = average(8, 10)  # Second pair: 8 and 10\n",
        "\n",
        "    # Find the average of the two previous averages\n",
        "    final = average(avg_1, avg_2)\n",
        "\n",
        "    # Print the results\n",
        "    print(\"avg_1:\", avg_1)  # Print first average\n",
        "    print(\"avg_2:\", avg_2)  # Print second average\n",
        "    print(\"final:\", final)   # Print the average of the averages\n",
        "\n",
        "# Call the main function\n",
        "if __name__ == '__main__':\n",
        "    main()\n"
      ],
      "metadata": {
        "id": "YjaPXXHPiMHI",
        "colab": {
          "base_uri": "https://localhost:8080/"
        },
        "outputId": "42013e52-7045-4a6f-ed6e-6e635fbe60c6"
      },
      "execution_count": 1,
      "outputs": [
        {
          "output_type": "stream",
          "name": "stdout",
          "text": [
            "avg_1: 5.0\n",
            "avg_2: 9.0\n",
            "final: 7.0\n"
          ]
        }
      ]
    },
    {
      "cell_type": "markdown",
      "source": [
        "01_chaotic_counting"
      ],
      "metadata": {
        "id": "XXp0RDbneXbM"
      }
    },
    {
      "cell_type": "code",
      "source": [
        "import random\n",
        "\n",
        "# Define the likelihood that done() will return True\n",
        "DONE_LIKELIHOOD = 0.3  # This means 30% chance to stop early\n",
        "\n",
        "def chaotic_counting():\n",
        "    for i in range(10):\n",
        "        curr_num = i + 1\n",
        "        if done():\n",
        "            return  # Exit early if done() returns True\n",
        "        print(curr_num)\n",
        "\n",
        "def done():\n",
        "    \"\"\" Returns True with a probability of DONE_LIKELIHOOD \"\"\"\n",
        "    if random.random() < DONE_LIKELIHOOD:\n",
        "        return True\n",
        "    return False\n",
        "\n",
        "def main():\n",
        "    print(\"I'm going to count until 10 or until I feel like stopping, whichever comes first.\")\n",
        "    chaotic_counting()\n",
        "    print(\"I'm done\")\n",
        "\n",
        "# Call the function\n",
        "if __name__ == \"__main__\":\n",
        "    main()\n"
      ],
      "metadata": {
        "colab": {
          "base_uri": "https://localhost:8080/"
        },
        "id": "cRyNJa1mecgA",
        "outputId": "fc806969-b7f5-4397-b4f2-7118f1613bbf"
      },
      "execution_count": 2,
      "outputs": [
        {
          "output_type": "stream",
          "name": "stdout",
          "text": [
            "I'm going to count until 10 or until I feel like stopping, whichever comes first.\n",
            "1\n",
            "2\n",
            "I'm done\n"
          ]
        }
      ]
    },
    {
      "cell_type": "markdown",
      "source": [
        "02_count_even"
      ],
      "metadata": {
        "id": "A1C-FS9iex4v"
      }
    },
    {
      "cell_type": "code",
      "source": [
        "def count_even(lst):\n",
        "    \"\"\"\n",
        "    Returns number of even numbers in list.\n",
        "    >>> count_even([1, 2, 3, 4])\n",
        "    2\n",
        "    >>> count_even([1, 3, 5, 7])\n",
        "    0\n",
        "    \"\"\"\n",
        "    count = 0  # Initialize a counter for even numbers\n",
        "    for num in lst:  # Loop through each number in the list\n",
        "        if num % 2 == 0:  # Check if the number is even\n",
        "            count += 1  # Increment the counter if the number is even\n",
        "\n",
        "    print(count)  # Print the count of even numbers\n",
        "\n",
        "def get_list_of_ints():\n",
        "    \"\"\"\n",
        "    Reads in integers until the user presses enter and returns the resulting list.\n",
        "    \"\"\"\n",
        "    lst = []  # Create an empty list to store the integers\n",
        "    user_input = input(\"Enter an integer or press enter to stop: \")  # Prompt the user for input\n",
        "    while user_input != \"\":  # Keep looping until the user presses enter without entering a number\n",
        "        lst.append(int(user_input))  # Convert the input to an integer and add it to the list\n",
        "        user_input = input(\"Enter an integer or press enter to stop: \")  # Ask for another input\n",
        "\n",
        "    return lst  # Return the list of integers\n",
        "\n",
        "def main():\n",
        "    lst = get_list_of_ints()  # Get the list of integers from the user\n",
        "    count_even(lst)  # Call count_even to print the count of even numbers\n",
        "\n",
        "# Start the program\n",
        "if __name__ == '__main__':\n",
        "    main()\n"
      ],
      "metadata": {
        "colab": {
          "base_uri": "https://localhost:8080/"
        },
        "id": "6HlO5rvgfD6q",
        "outputId": "1ceaca9d-d6c0-479c-fdc3-684234c86e6c"
      },
      "execution_count": 3,
      "outputs": [
        {
          "output_type": "stream",
          "name": "stdout",
          "text": [
            "Enter an integer or press enter to stop: 6\n",
            "Enter an integer or press enter to stop: \n",
            "1\n"
          ]
        }
      ]
    },
    {
      "cell_type": "markdown",
      "source": [
        "04_double"
      ],
      "metadata": {
        "id": "nnpKKkEKf4Yj"
      }
    },
    {
      "cell_type": "code",
      "source": [
        "def double(num: int):\n",
        "    \"\"\"\n",
        "    Returns the result of multiplying the input number by 2.\n",
        "    \"\"\"\n",
        "    return num * 2  # Multiply num by 2\n",
        "\n",
        "def main():\n",
        "    num = int(input(\"Enter a number: \"))  # Get input from the user and convert it to an integer\n",
        "    num_times_2 = double(num)  # Call the double() function to get the doubled value\n",
        "    print(\"Double that is\", num_times_2)  # Print the doubled value\n",
        "\n",
        "  # Call the main function\n",
        "if __name__ == '__main__':\n",
        "    main()"
      ],
      "metadata": {
        "colab": {
          "base_uri": "https://localhost:8080/"
        },
        "id": "ZEMKdKDxf_4a",
        "outputId": "49351edb-3896-4e97-831f-0f3c5fb94aeb"
      },
      "execution_count": 4,
      "outputs": [
        {
          "output_type": "stream",
          "name": "stdout",
          "text": [
            "Enter a number: 6\n",
            "Double that is 12\n"
          ]
        }
      ]
    },
    {
      "cell_type": "markdown",
      "source": [
        "05_get_name"
      ],
      "metadata": {
        "id": "KLI2ATvggTUN"
      }
    },
    {
      "cell_type": "code",
      "source": [
        "def get_name():\n",
        "    \"\"\"Returns your name as a string.\"\"\"\n",
        "    return \"Nimra\"  # Return the name \"Sophia\"\n",
        "\n",
        "def main():\n",
        "    name = get_name()  # Call function to get the name\n",
        "    print(\"Howdy\", name, \"! 🤠\")  # Print a greeting with the name\n",
        "\n",
        " # Call the main function\n",
        "if __name__ == '__main__':\n",
        "    main()\n"
      ],
      "metadata": {
        "colab": {
          "base_uri": "https://localhost:8080/"
        },
        "id": "LoKOOQeEgZo5",
        "outputId": "23fa88a9-add5-49cc-d9f9-dc7e42dd36fd"
      },
      "execution_count": 5,
      "outputs": [
        {
          "output_type": "stream",
          "name": "stdout",
          "text": [
            "Howdy Nimra ! 🤠\n"
          ]
        }
      ]
    },
    {
      "cell_type": "markdown",
      "source": [
        "06_is_odd"
      ],
      "metadata": {
        "id": "o8GbB7Awg82c"
      }
    },
    {
      "cell_type": "code",
      "source": [
        "def main():\n",
        "    for i in range(10, 20):  # Loop from 10 to 19 (inclusive)\n",
        "        if is_odd(i):  # Check if the number is odd\n",
        "            print(f\"{i} odd\")\n",
        "        else:  # If it's not odd, it must be even\n",
        "            print(f\"{i} even\")\n",
        "\n",
        "def is_odd(value: int):\n",
        "    \"\"\"\n",
        "    Checks to see if a value is odd. If it is, returns True.\n",
        "    \"\"\"\n",
        "    return value % 2 != 0  # Returns True if the number is odd (not divisible by 2)\n",
        "\n",
        "# Call the main function\n",
        "if __name__ == '__main__':\n",
        "    main()"
      ],
      "metadata": {
        "colab": {
          "base_uri": "https://localhost:8080/"
        },
        "id": "qrwuQQP1hB2R",
        "outputId": "cfa061c4-2741-4c20-92d1-31e4f05dcf6b"
      },
      "execution_count": 6,
      "outputs": [
        {
          "output_type": "stream",
          "name": "stdout",
          "text": [
            "10 even\n",
            "11 odd\n",
            "12 even\n",
            "13 odd\n",
            "14 even\n",
            "15 odd\n",
            "16 even\n",
            "17 odd\n",
            "18 even\n",
            "19 odd\n"
          ]
        }
      ]
    },
    {
      "cell_type": "markdown",
      "source": [
        "07_print_divisor"
      ],
      "metadata": {
        "id": "MuGYtghjhfTu"
      }
    },
    {
      "cell_type": "code",
      "source": [
        "def print_divisors(num: int):\n",
        "    \"\"\"Prints all divisors of the given number.\"\"\"\n",
        "    print(f\"Here are the divisors of {num}:\")\n",
        "    for i in range(1, num + 1):  # Check numbers from 1 to num (inclusive)\n",
        "        if num % i == 0:  # If i divides num without a remainder\n",
        "            print(i)  # Print the divisor\n",
        "\n",
        "def main():\n",
        "    num = int(input(\"Enter a number: \"))  # Get input from the user\n",
        "    print_divisors(num)  # Call the function to print divisors\n",
        "\n",
        " # Call the main function\n",
        "if __name__ == '__main__':\n",
        "    main()\n"
      ],
      "metadata": {
        "colab": {
          "base_uri": "https://localhost:8080/"
        },
        "id": "JCnU-GvDhgKG",
        "outputId": "f9e47f22-4c09-4d7d-d1c6-7fdea655e9e2"
      },
      "execution_count": 7,
      "outputs": [
        {
          "output_type": "stream",
          "name": "stdout",
          "text": [
            "Enter a number: 6\n",
            "Here are the divisors of 6:\n",
            "1\n",
            "2\n",
            "3\n",
            "6\n"
          ]
        }
      ]
    },
    {
      "cell_type": "markdown",
      "source": [
        "08_print_multiple"
      ],
      "metadata": {
        "id": "ptlumFUsh2At"
      }
    },
    {
      "cell_type": "code",
      "source": [
        "def print_multiple(message: str, repeats: int):\n",
        "    \"\"\"Print the message the specified number of times.\"\"\"\n",
        "    for i in range(repeats):  # Loop to repeat the message 'repeats' times\n",
        "        print(message)  # Print the message each time\n",
        "\n",
        "def main():\n",
        "    message = input(\"Please type a message: \")  # Get the message from the user\n",
        "    repeats = int(input(\"Enter a number of times to repeat your message: \"))  # Get the number of repeats\n",
        "    print_multiple(message, repeats)  # Call the function to print the message multiple times\n",
        "\n",
        "# Call the main function\n",
        "if __name__ == '__main__':\n",
        "    main()"
      ],
      "metadata": {
        "colab": {
          "base_uri": "https://localhost:8080/"
        },
        "id": "Xph_Ojjnh6iY",
        "outputId": "80cc3b5b-fe25-4aa5-a652-7602e9a04466"
      },
      "execution_count": 8,
      "outputs": [
        {
          "output_type": "stream",
          "name": "stdout",
          "text": [
            "Please type a message: Never stop growing\n",
            "Enter a number of times to repeat your message: 6\n",
            "Never stop growing\n",
            "Never stop growing\n",
            "Never stop growing\n",
            "Never stop growing\n",
            "Never stop growing\n",
            "Never stop growing\n"
          ]
        }
      ]
    },
    {
      "cell_type": "markdown",
      "source": [
        "09_sentence_generator"
      ],
      "metadata": {
        "id": "c6oE9ZPiiXkH"
      }
    },
    {
      "cell_type": "code",
      "source": [
        "def make_sentence(word, part_of_speech):\n",
        "    \"\"\"Creates and prints a sentence based on the part of speech.\"\"\"\n",
        "    if part_of_speech == 0:\n",
        "        # Noun\n",
        "        print(\"I am excited to add this \" + word + \" to my vast collection of them!\")\n",
        "    elif part_of_speech == 1:\n",
        "        # Verb\n",
        "        print(\"It's so nice outside today it makes me want to \" + word + \"!\")\n",
        "    elif part_of_speech == 2:\n",
        "        # Adjective\n",
        "        print(\"Looking out my window, the sky is big and \" + word + \"!\")\n",
        "    elif part_of_speech == 3:\n",
        "        # Adverb\n",
        "        print(\"She ran so \" + word + \" to catch the bus!\")\n",
        "    elif part_of_speech == 4:\n",
        "        # Pronoun\n",
        "        print(\"Did you see \" + word + \" yesterday?\")\n",
        "    else:\n",
        "        # Invalid part of speech\n",
        "        print(\"Part of speech must be 0, 1, 2, 3, or 4! Can't make a sentence.\")\n",
        "\n",
        "def main():\n",
        "    word = input(\"Please type a noun, verb, adjective, adverb, or pronoun: \")  # Get the word from the user\n",
        "    print(\"Is this a noun, verb, adjective, adverb, or pronoun?\")\n",
        "    part_of_speech = int(input(\"Type 0 for noun, 1 for verb, 2 for adjective, 3 for adverb, 4 for pronoun: \"))  # Get the part of speech from the user\n",
        "    make_sentence(word, part_of_speech)  # Call the function to print the sentence\n",
        "\n",
        "if __name__ == '__main__':\n",
        "    main()  # Run the main function\n"
      ],
      "metadata": {
        "colab": {
          "base_uri": "https://localhost:8080/"
        },
        "id": "_lnyOb27ichF",
        "outputId": "73c94ce8-4f7c-4469-fbcd-21d2118f4390"
      },
      "execution_count": 9,
      "outputs": [
        {
          "output_type": "stream",
          "name": "stdout",
          "text": [
            "Please type a noun, verb, adjective, adverb, or pronoun: Noun\n",
            "Is this a noun, verb, adjective, adverb, or pronoun?\n",
            "Type 0 for noun, 1 for verb, 2 for adjective, 3 for adverb, 4 for pronoun: 0\n",
            "I am excited to add this Noun to my vast collection of them!\n"
          ]
        }
      ]
    },
    {
      "cell_type": "markdown",
      "source": [
        "10_print_ones_digit"
      ],
      "metadata": {
        "id": "ThmnXyyOi7vJ"
      }
    },
    {
      "cell_type": "code",
      "source": [
        "def print_ones_digit(num):\n",
        "    \"\"\"Prints the ones digit of the number.\"\"\"\n",
        "    print(\"The ones digit is\", num % 10)\n",
        "\n",
        "def main():\n",
        "    num = int(input(\"Enter a number: \"))  # Get the number from the user\n",
        "    print_ones_digit(num)  # Call the function to print the ones digit\n",
        "\n",
        "if __name__ == '__main__':\n",
        "    main()  # Run the main function\n"
      ],
      "metadata": {
        "colab": {
          "base_uri": "https://localhost:8080/"
        },
        "id": "MSTHuWsFi_6k",
        "outputId": "6fd75550-f44a-4d62-b479-76a3545fdea0"
      },
      "execution_count": 10,
      "outputs": [
        {
          "output_type": "stream",
          "name": "stdout",
          "text": [
            "Enter a number: 6\n",
            "The ones digit is 6\n"
          ]
        }
      ]
    }
  ]
}