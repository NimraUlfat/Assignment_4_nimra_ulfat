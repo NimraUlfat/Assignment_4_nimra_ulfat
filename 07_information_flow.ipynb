{
  "nbformat": 4,
  "nbformat_minor": 0,
  "metadata": {
    "colab": {
      "provenance": [],
      "authorship_tag": "ABX9TyOuPTW3ddE6e5psBQIFsrrI",
      "include_colab_link": true
    },
    "kernelspec": {
      "name": "python3",
      "display_name": "Python 3"
    },
    "language_info": {
      "name": "python"
    }
  },
  "cells": [
    {
      "cell_type": "markdown",
      "metadata": {
        "id": "view-in-github",
        "colab_type": "text"
      },
      "source": [
        "<a href=\"https://colab.research.google.com/github/NimraUlfat/Assignment_4_nimra_ulfat/blob/main/07_information_flow.ipynb\" target=\"_parent\"><img src=\"https://colab.research.google.com/assets/colab-badge.svg\" alt=\"Open In Colab\"/></a>"
      ]
    },
    {
      "cell_type": "markdown",
      "source": [
        "# 07_information_flow"
      ],
      "metadata": {
        "id": "l1hdfxuQqCdD"
      }
    },
    {
      "cell_type": "markdown",
      "source": [
        "00_choosing_returns"
      ],
      "metadata": {
        "id": "jWBQ4fe8qMjz"
      }
    },
    {
      "cell_type": "code",
      "source": [
        "ADULT_AGE = 18  # U.S. age\n",
        "\n",
        "def is_adult(age: int):\n",
        "    return age >= ADULT_AGE  # Directly return the boolean condition\n",
        "\n",
        "def main():\n",
        "    age = int(input(\"How old is this person?: \"))  # Correcting the input conversion to integer\n",
        "    print(is_adult(age))  # Print whether the person is an adult or not\n",
        "\n",
        "# Call the Function\n",
        "if __name__ == \"__main__\":\n",
        "    main()\n"
      ],
      "metadata": {
        "colab": {
          "base_uri": "https://localhost:8080/"
        },
        "id": "vls4XLcKqRww",
        "outputId": "906e0732-c7de-4e93-9df8-c3d27667a5c5"
      },
      "execution_count": 1,
      "outputs": [
        {
          "output_type": "stream",
          "name": "stdout",
          "text": [
            "How old is this person?: 21\n",
            "True\n"
          ]
        }
      ]
    },
    {
      "cell_type": "markdown",
      "source": [
        "01_greetings"
      ],
      "metadata": {
        "id": "8uoYuEhFqsId"
      }
    },
    {
      "cell_type": "code",
      "source": [
        "def greet(name):\n",
        "    # Greet the user with their name\n",
        "    print(\"Greetings \" + name + \"!\")\n",
        "\n",
        "def main():\n",
        "    # Get user's name\n",
        "    name = input(\"What's your name? \")\n",
        "    # Call greet() to print the greeting\n",
        "    greet(name)\n",
        "\n",
        "# Call the function\n",
        "if __name__ == '__main__':\n",
        "    main()\n"
      ],
      "metadata": {
        "colab": {
          "base_uri": "https://localhost:8080/"
        },
        "id": "LIHEwfvUqx_F",
        "outputId": "df26154d-e3ee-4f2c-f0b1-c4271f527d75"
      },
      "execution_count": 2,
      "outputs": [
        {
          "output_type": "stream",
          "name": "stdout",
          "text": [
            "What's your name? Nimra\n",
            "Greetings Nimra!\n"
          ]
        }
      ]
    },
    {
      "cell_type": "markdown",
      "source": [
        "02_in_range"
      ],
      "metadata": {
        "id": "nm1NW_FyrRjo"
      }
    },
    {
      "cell_type": "code",
      "source": [
        "def in_range(n, low, high):\n",
        "    \"\"\"\n",
        "    Returns True if n is between low and high, inclusive.\n",
        "    high is guaranteed to be greater than low.\n",
        "    \"\"\"\n",
        "    if n >= low and n <= high:\n",
        "        return True\n",
        "    return False  # Directly return False here instead of using 'else'\n",
        "\n",
        "def main():\n",
        "    # Example usage\n",
        "    print(in_range(5, 1, 10))  # This should print True\n",
        "    print(in_range(15, 1, 10))  # This should print False\n",
        "\n",
        "# Call the main function\n",
        "if __name__ == '__main__':\n",
        "    main()\n"
      ],
      "metadata": {
        "colab": {
          "base_uri": "https://localhost:8080/"
        },
        "id": "BQb9njmBrib5",
        "outputId": "2577b79b-e61c-499b-86cd-63bd5513c133"
      },
      "execution_count": 3,
      "outputs": [
        {
          "output_type": "stream",
          "name": "stdout",
          "text": [
            "True\n",
            "False\n"
          ]
        }
      ]
    },
    {
      "cell_type": "markdown",
      "source": [
        "03_in_stock"
      ],
      "metadata": {
        "id": "gQaeDpMhsN84"
      }
    },
    {
      "cell_type": "code",
      "source": [
        "def main():\n",
        "    # Get the fruit name from user input\n",
        "    fruit = input(\"Enter a fruit: \")\n",
        "\n",
        "    # Get the number of the fruit in stock using num_in_stock\n",
        "    stock = num_in_stock(fruit)\n",
        "\n",
        "    # Check if the fruit is in stock and print the result\n",
        "    if stock == 0:\n",
        "        print(\"This fruit is not in stock.\")\n",
        "    else:\n",
        "        print(\"This fruit is in stock! Here is how many:\")\n",
        "        print(stock)\n",
        "\n",
        "# Function to check how many of a specific fruit are in stock\n",
        "def num_in_stock(fruit):\n",
        "    \"\"\"\n",
        "    Returns the number of fruit Sophia has in stock.\n",
        "    \"\"\"\n",
        "    if fruit == 'apple':\n",
        "        return 2\n",
        "    if fruit == 'durian':\n",
        "        return 4\n",
        "    if fruit == 'pear':\n",
        "        return 1000\n",
        "    else:\n",
        "        # Return 0 if the fruit is not in stock\n",
        "        return 0\n",
        "\n",
        "# Call the main function\n",
        "if __name__ == '__main__':\n",
        "    main()\n"
      ],
      "metadata": {
        "colab": {
          "base_uri": "https://localhost:8080/"
        },
        "id": "imZwdwHesUdQ",
        "outputId": "3552ce5b-3739-43fe-87d3-a3c377e1c904"
      },
      "execution_count": 4,
      "outputs": [
        {
          "output_type": "stream",
          "name": "stdout",
          "text": [
            "Enter a fruit: Kiwi\n",
            "This fruit is not in stock.\n"
          ]
        }
      ]
    },
    {
      "cell_type": "markdown",
      "source": [
        "04_multiple_returns"
      ],
      "metadata": {
        "id": "1-PO273xs3Kf"
      }
    },
    {
      "cell_type": "code",
      "source": [
        "def get_user_info():\n",
        "    # Ask the user for their first name, last name, and email address\n",
        "    first_name: str = input(\"What is your first name?: \")\n",
        "    last_name: str = input(\"What is your last name?: \")\n",
        "    email_address: str = input(\"What is your email address?: \")\n",
        "\n",
        "    # Return all three pieces of data as a tuple\n",
        "    return first_name, last_name, email_address\n",
        "\n",
        "def main():\n",
        "    # Get the user data as a tuple\n",
        "    user_data = get_user_info()\n",
        "\n",
        "    # Print the tuple with the received data\n",
        "    print(\"Received the following user data:\", user_data)\n",
        "\n",
        "# Call the ma9n fu\n",
        "if __name__ == \"__main__\":\n",
        "    main()\n"
      ],
      "metadata": {
        "colab": {
          "base_uri": "https://localhost:8080/"
        },
        "id": "34rDV0mYs7cv",
        "outputId": "0a18763b-bdf0-4b1c-86dc-7c77c93a49a7"
      },
      "execution_count": 5,
      "outputs": [
        {
          "output_type": "stream",
          "name": "stdout",
          "text": [
            "What is your first name?: Nimra\n",
            "What is your last name?: Ulfat\n",
            "What is your email address?: nimraulfat47@gmail.com\n",
            "Received the following user data: ('Nimra', 'Ulfat', 'nimraulfat47@gmail.com')\n"
          ]
        }
      ]
    },
    {
      "cell_type": "markdown",
      "source": [
        "05_subtract_7"
      ],
      "metadata": {
        "id": "QqTMM00Nt8gX"
      }
    },
    {
      "cell_type": "code",
      "source": [
        "def get_user_info():\n",
        "    # Ask the user for their first name, last name, and email address\n",
        "    first_name: str = input(\"What is your first name?: \")\n",
        "    last_name: str = input(\"What is your last name?: \")\n",
        "    email_address: str = input(\"What is your email address?: \")\n",
        "\n",
        "    # Return all three pieces of data as a tuple\n",
        "    return first_name, last_name, email_address\n",
        "\n",
        "def main():\n",
        "    # Get the user data as a tuple\n",
        "    user_data = get_user_info()\n",
        "\n",
        "    # Print the tuple with the received data\n",
        "    print(\"Received the following user data:\", user_data)\n",
        "\n",
        "# Run the main function ls\n",
        "if __name__ == \"__main__\":\n",
        "    main()\n"
      ],
      "metadata": {
        "colab": {
          "base_uri": "https://localhost:8080/"
        },
        "id": "ZNvDiIrVvUb5",
        "outputId": "848dcf11-1a52-448f-ce72-add48e6bc900"
      },
      "execution_count": 6,
      "outputs": [
        {
          "output_type": "stream",
          "name": "stdout",
          "text": [
            "What is your first name?: Ni ra\n",
            "What is your last name?: \n",
            "What is your email address?: ulfat\n",
            "Received the following user data: ('Ni ra', '', 'ulfat')\n"
          ]
        }
      ]
    }
  ]
}