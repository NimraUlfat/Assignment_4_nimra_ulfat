{
  "nbformat": 4,
  "nbformat_minor": 0,
  "metadata": {
    "colab": {
      "provenance": [],
      "authorship_tag": "ABX9TyM6NxM3Sxu+yu4ymkYP6Fro",
      "include_colab_link": true
    },
    "kernelspec": {
      "name": "python3",
      "display_name": "Python 3"
    },
    "language_info": {
      "name": "python"
    }
  },
  "cells": [
    {
      "cell_type": "markdown",
      "metadata": {
        "id": "view-in-github",
        "colab_type": "text"
      },
      "source": [
        "<a href=\"https://colab.research.google.com/github/NimraUlfat/Assignment_4_nimra_ulfat/blob/main/04_dictionaries.ipynb\" target=\"_parent\"><img src=\"https://colab.research.google.com/assets/colab-badge.svg\" alt=\"Open In Colab\"/></a>"
      ]
    },
    {
      "cell_type": "markdown",
      "source": [
        "# 04_dictionaries"
      ],
      "metadata": {
        "id": "Ei9l2TDWV_0N"
      }
    },
    {
      "cell_type": "markdown",
      "source": [
        "00_count_nums"
      ],
      "metadata": {
        "id": "pi-n6uS0WB14"
      }
    },
    {
      "cell_type": "code",
      "source": [
        "def get_user_numbers():\n",
        "    \"\"\"\n",
        "    Create an empty list.\n",
        "    Ask the user to input numbers and store them in a list.\n",
        "    Once they enter a blank line, break out of the loop and return the list.\n",
        "    \"\"\"\n",
        "    user_numbers = []\n",
        "    while True:\n",
        "        user_input = input(\"Enter a number: \")\n",
        "\n",
        "        # If the user enters a blank line, break out of the loop and stop asking for input\n",
        "        if user_input == \"\":\n",
        "            break\n",
        "\n",
        "        # Convert the user input to an integer and add it to the list\n",
        "        num = int(user_input)\n",
        "        user_numbers.append(num)\n",
        "\n",
        "    return user_numbers\n",
        "\n",
        "def count_nums(num_lst):\n",
        "    \"\"\"\n",
        "    Create an empty dictionary.\n",
        "    Loop over the list of numbers.\n",
        "    If the number is not in the dictionary, add it as a key with a value of 1.\n",
        "    If the number is in the dictionary, increment its value by 1.\n",
        "    \"\"\"\n",
        "    num_dict = {}\n",
        "    for num in num_lst:\n",
        "        if num not in num_dict:\n",
        "            num_dict[num] = 1\n",
        "        else:\n",
        "            num_dict[num] += 1\n",
        "\n",
        "    return num_dict\n",
        "\n",
        "def print_counts(num_dict):\n",
        "    \"\"\"\n",
        "    Loop over the dictionary and print out each key and its value.\n",
        "    \"\"\"\n",
        "    for num in num_dict:\n",
        "        print(str(num) + \" appears \" + str(num_dict[num]) + \" times.\")\n",
        "\n",
        "def main():\n",
        "    \"\"\"\n",
        "    Ask the user to input numbers and store them in a list. Once they enter a blank line,\n",
        "    print out the number of times each number appeared in the list.\n",
        "    \"\"\"\n",
        "    user_numbers = get_user_numbers()\n",
        "    num_dict = count_nums(user_numbers)\n",
        "    print_counts(num_dict)\n",
        "\n",
        "if __name__ == '__main__':\n",
        "    main()\n"
      ],
      "metadata": {
        "colab": {
          "base_uri": "https://localhost:8080/"
        },
        "id": "gghRmxpvWGGe",
        "outputId": "79aabe79-2f98-4ffc-f660-93133bc6ecf6"
      },
      "execution_count": 1,
      "outputs": [
        {
          "output_type": "stream",
          "name": "stdout",
          "text": [
            "Enter a number: 6\n",
            "Enter a number: 7\n",
            "Enter a number: 8\n",
            "Enter a number: 5\n",
            "Enter a number: \n",
            "6 appears 1 times.\n",
            "7 appears 1 times.\n",
            "8 appears 1 times.\n",
            "5 appears 1 times.\n"
          ]
        }
      ]
    },
    {
      "cell_type": "markdown",
      "source": [
        "01_phonebook"
      ],
      "metadata": {
        "id": "92pPkoNaW90p"
      }
    },
    {
      "cell_type": "code",
      "source": [
        "def read_phone_numbers():\n",
        "    \"\"\"\n",
        "    Ask the user for names/numbers to store in a phonebook (dictionary).\n",
        "    Returns the phonebook.\n",
        "    \"\"\"\n",
        "    phonebook = {}  # Create empty phonebook\n",
        "\n",
        "    while True:\n",
        "        name = input(\"Name: \")\n",
        "        if name == \"\":  # Stop if user enters a blank name\n",
        "            break\n",
        "        number = input(\"Number: \")\n",
        "        phonebook[name] = number  # Store name and number in the phonebook\n",
        "\n",
        "    return phonebook\n",
        "\n",
        "\n",
        "def print_phonebook(phonebook):\n",
        "    \"\"\"\n",
        "    Prints out all the names/numbers in the phonebook.\n",
        "    \"\"\"\n",
        "    for name in phonebook:\n",
        "        print(f\"{name} -> {phonebook[name]}\")  # Print each name and number\n",
        "\n",
        "\n",
        "def lookup_numbers(phonebook):\n",
        "    \"\"\"\n",
        "    Allow the user to look up phone numbers in the phonebook\n",
        "    by looking up the number associated with a name.\n",
        "    \"\"\"\n",
        "    while True:\n",
        "        name = input(\"Enter name to lookup: \")\n",
        "        if name == \"\":  # Stop if user enters a blank name\n",
        "            break\n",
        "        if name not in phonebook:  # If name is not in the phonebook\n",
        "            print(f\"{name} is not in the phonebook\")\n",
        "        else:\n",
        "            print(f\"{phonebook[name]}\")  # Print the phone number\n",
        "\n",
        "\n",
        "def main():\n",
        "    \"\"\"\n",
        "    Main function that ties everything together.\n",
        "    It reads phone numbers, prints the phonebook, and allows name lookups.\n",
        "    \"\"\"\n",
        "    phonebook = read_phone_numbers()  # Get the phonebook from user input\n",
        "    print(\"\\nPhonebook:\")\n",
        "    print_phonebook(phonebook)  # Display all contacts\n",
        "    print(\"\\nPhonebook Lookup:\")\n",
        "    lookup_numbers(phonebook)  # Allow user to lookup phone numbers\n",
        "\n",
        "if __name__ == '__main__':\n",
        "    main()\n"
      ],
      "metadata": {
        "colab": {
          "base_uri": "https://localhost:8080/"
        },
        "id": "uawRXLAbXBqG",
        "outputId": "64067440-28cf-4458-8801-b12ce8fadbb2"
      },
      "execution_count": 2,
      "outputs": [
        {
          "name": "stdout",
          "output_type": "stream",
          "text": [
            "Name: Nimra\n",
            "Number: 123456789\n",
            "Name: Ali\n",
            "Number: 0987654321\n",
            "Name: \n",
            "\n",
            "Phonebook:\n",
            "Nimra -> 123456789\n",
            "Ali -> 0987654321\n",
            "\n",
            "Phonebook Lookup:\n",
            "Enter name to lookup: Nimra\n",
            "123456789\n",
            "Enter name to lookup: \n"
          ]
        }
      ]
    },
    {
      "cell_type": "markdown",
      "source": [
        "02_pop_up_shop"
      ],
      "metadata": {
        "id": "4LSpGFVyY_z1"
      }
    },
    {
      "cell_type": "code",
      "source": [
        "def main():\n",
        "    # Define the dictionary with fruits and their prices\n",
        "    fruits = {'apple': 1.5, 'durian': 50, 'jackfruit': 80, 'kiwi': 1, 'rambutan': 1.5, 'mango': 5}\n",
        "\n",
        "    total_cost = 0  # Initialize total cost to 0\n",
        "\n",
        "    # Loop through each fruit in the dictionary\n",
        "    for fruit_name in fruits:\n",
        "        price = fruits[fruit_name]  # Get the price of the current fruit\n",
        "        amount_bought = int(input(f\"How many ({fruit_name}) do you want to buy?: \"))  # Get user input for quantity\n",
        "        total_cost += (price * amount_bought)  # Calculate the cost and add it to the total\n",
        "\n",
        "    # Print the total cost rounded to 2 decimal places\n",
        "    print(f\"Your total is ${total_cost:.2f}\")\n",
        "\n",
        "\n",
        "# Call the main function\n",
        "if __name__ == '__main__':\n",
        "    main()\n"
      ],
      "metadata": {
        "colab": {
          "base_uri": "https://localhost:8080/"
        },
        "id": "s7TTjlDvZE4x",
        "outputId": "393052ee-f62c-4300-8be6-391c3985ebf5"
      },
      "execution_count": 3,
      "outputs": [
        {
          "output_type": "stream",
          "name": "stdout",
          "text": [
            "How many (apple) do you want to buy?: 4\n",
            "How many (durian) do you want to buy?: 7\n",
            "How many (jackfruit) do you want to buy?: 6\n",
            "How many (kiwi) do you want to buy?: 9\n",
            "How many (rambutan) do you want to buy?: 3\n",
            "How many (mango) do you want to buy?: 12\n",
            "Your total is $909.50\n"
          ]
        }
      ]
    },
    {
      "cell_type": "markdown",
      "source": [
        "03_powerful_passwords"
      ],
      "metadata": {
        "id": "LiCNS2pyaBbf"
      }
    },
    {
      "cell_type": "code",
      "source": [
        "from hashlib import sha256\n",
        "\n",
        "def login(email, stored_logins, password_to_check):\n",
        "    \"\"\"\n",
        "    Returns True if the hash of the password we are checking matches the one in stored_logins\n",
        "    for a specific email. Otherwise, returns False.\n",
        "\n",
        "    email: the email we are checking the password for\n",
        "    stored_logins: a dictionary pointing from an email to its hashed password\n",
        "    password_to_check: a password we want to test alongside the email to login with\n",
        "    \"\"\"\n",
        "    # Check if the hash of the provided password matches the stored hash for the email\n",
        "    if stored_logins[email] == hash_password(password_to_check):\n",
        "        return True\n",
        "    return False\n",
        "\n",
        "def hash_password(password):\n",
        "    \"\"\"\n",
        "    Takes in a password and returns the SHA256 hashed value for that specific password.\n",
        "\n",
        "    Inputs:\n",
        "        password: the password we want\n",
        "\n",
        "    Outputs:\n",
        "        the hashed form of the input password\n",
        "    \"\"\"\n",
        "    # Hash the password using SHA256 and return the hashed value\n",
        "    return sha256(password.encode()).hexdigest()\n",
        "\n",
        "def main():\n",
        "    # stored_logins is a dictionary with emails as keys and hashed passwords as values\n",
        "    stored_logins = {\n",
        "        \"example@gmail.com\": \"5e884898da28047151d0e56f8dc6292773603d0d6aabbdd62a11ef721d1542d8\",  # hashed value for 'password'\n",
        "        \"code_in_placer@cip.org\": \"973607a4ae7b4cf7d96a100b0fb07e8519cc4f70441d41214a9f811577bb06cc\",  # hashed value for 'Karel'\n",
        "        \"student@stanford.edu\": \"882c6df720fd99f5eebb1581a1cf975625cea8a160283011c0b9512bb56c95fb\"  # hashed value for '123456'\n",
        "    }\n",
        "\n",
        "    # Test cases to check the login functionality\n",
        "    print(login(\"example@gmail.com\", stored_logins, \"word\"))  # False, incorrect password\n",
        "    print(login(\"example@gmail.com\", stored_logins, \"password\"))  # True, correct password\n",
        "\n",
        "    print(login(\"code_in_placer@cip.org\", stored_logins, \"Karel\"))  # True, correct password\n",
        "    print(login(\"code_in_placer@cip.org\", stored_logins, \"karel\"))  # False, case-sensitive\n",
        "\n",
        "    print(login(\"student@stanford.edu\", stored_logins, \"password\"))  # False, incorrect password\n",
        "    print(login(\"student@stanford.edu\", stored_logins, \"123!456?789\"))  # False, incorrect password\n",
        "\n",
        "if __name__ == '__main__':\n",
        "    main()\n"
      ],
      "metadata": {
        "colab": {
          "base_uri": "https://localhost:8080/"
        },
        "id": "1rvW9J28aG3u",
        "outputId": "4631133f-3337-4eae-f7d8-0a4bd199b9c5"
      },
      "execution_count": 4,
      "outputs": [
        {
          "output_type": "stream",
          "name": "stdout",
          "text": [
            "False\n",
            "True\n",
            "False\n",
            "True\n",
            "False\n",
            "True\n"
          ]
        }
      ]
    }
  ]
}