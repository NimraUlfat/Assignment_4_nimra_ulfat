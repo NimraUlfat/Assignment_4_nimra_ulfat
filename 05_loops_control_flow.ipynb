{
  "nbformat": 4,
  "nbformat_minor": 0,
  "metadata": {
    "colab": {
      "provenance": [],
      "authorship_tag": "ABX9TyM69sToNE3C9cUkqlDNwqaa",
      "include_colab_link": true
    },
    "kernelspec": {
      "name": "python3",
      "display_name": "Python 3"
    },
    "language_info": {
      "name": "python"
    }
  },
  "cells": [
    {
      "cell_type": "markdown",
      "metadata": {
        "id": "view-in-github",
        "colab_type": "text"
      },
      "source": [
        "<a href=\"https://colab.research.google.com/github/NimraUlfat/Assignment_4_nimra_ulfat/blob/main/05_loops_control_flow.ipynb\" target=\"_parent\"><img src=\"https://colab.research.google.com/assets/colab-badge.svg\" alt=\"Open In Colab\"/></a>"
      ]
    },
    {
      "cell_type": "markdown",
      "source": [
        "# 05_loops_control_flow"
      ],
      "metadata": {
        "id": "aiUWW4e5cZhM"
      }
    },
    {
      "cell_type": "markdown",
      "source": [
        "00_guess_my_number"
      ],
      "metadata": {
        "id": "uiCSsJlqccW0"
      }
    },
    {
      "cell_type": "code",
      "source": [
        "import random\n",
        "\n",
        "def main():\n",
        "    # Generate the secret number at random!\n",
        "    secret_number = random.randint(1, 99)\n",
        "\n",
        "    print(\"I am thinking of a number between 1 and 99...\")\n",
        "\n",
        "    # Get user's first guess\n",
        "    guess = int(input(\"Enter a guess: \"))\n",
        "\n",
        "    # Keep asking until the guess is correct\n",
        "    while guess != secret_number:\n",
        "        if guess < secret_number:\n",
        "            print(\"Your guess is too low\")\n",
        "        else:\n",
        "            print(\"Your guess is too high\")\n",
        "\n",
        "        print()\n",
        "        guess = int(input(\"Enter a new guess: \"))  # Get a new guess from the user\n",
        "\n",
        "    print(\"Congrats! The number was: \" + str(secret_number))\n",
        "\n",
        "# Run the main function\n",
        "if __name__ == '__main__':\n",
        "    main()\n"
      ],
      "metadata": {
        "id": "GGPebF7AeQiB"
      },
      "execution_count": null,
      "outputs": []
    },
    {
      "cell_type": "markdown",
      "source": [
        "01_fibonacci"
      ],
      "metadata": {
        "id": "k08mad-DeSEl"
      }
    },
    {
      "cell_type": "code",
      "source": [
        "MAX_TERM_VALUE = 10000  # The maximum value for Fibonacci numbers to print\n",
        "\n",
        "def main():\n",
        "    curr_term = 0  # Start with Fib(0)\n",
        "    next_term = 1  # Start with Fib(1)\n",
        "\n",
        "     # Continue until the current term exceeds 10,000\n",
        "    while curr_term <= MAX_TERM_VALUE:\n",
        "        print(curr_term)  # Print the current Fibonacci number\n",
        "        term_after_next = curr_term + next_term  # Calculate the next Fibonacci number\n",
        "        curr_term = next_term  # Update the current term\n",
        "        next_term = term_after_next  # Update the next term to the new value\n",
        "\n",
        "# Run the function\n",
        "if __name__ == '__main__':\n",
        "    main()\n"
      ],
      "metadata": {
        "colab": {
          "base_uri": "https://localhost:8080/"
        },
        "id": "aOIBjU4eeVKf",
        "outputId": "c4d7bfd1-f481-41cc-83fe-c7bc0c35e4ac"
      },
      "execution_count": 3,
      "outputs": [
        {
          "output_type": "stream",
          "name": "stdout",
          "text": [
            "0\n",
            "1\n",
            "1\n",
            "2\n",
            "3\n",
            "5\n",
            "8\n",
            "13\n",
            "21\n",
            "34\n",
            "55\n",
            "89\n",
            "144\n",
            "233\n",
            "377\n",
            "610\n",
            "987\n",
            "1597\n",
            "2584\n",
            "4181\n",
            "6765\n"
          ]
        }
      ]
    },
    {
      "cell_type": "markdown",
      "source": [
        "02_print_events"
      ],
      "metadata": {
        "id": "XOwjZeBBewXS"
      }
    },
    {
      "cell_type": "code",
      "source": [
        "def main():\n",
        "    # This for-loop starts at 0 and counts up to 19\n",
        "    for i in range(20):\n",
        "        print(i * 2)  # Each 'i' is multiplied by 2\n",
        "\n",
        "# Call the main function\n",
        "if __name__ == \"__main__\":\n",
        "    main()\n"
      ],
      "metadata": {
        "colab": {
          "base_uri": "https://localhost:8080/"
        },
        "id": "NSVjvAKYe0Cr",
        "outputId": "c06ece72-72db-42f0-ed12-7f1aa52c3c0d"
      },
      "execution_count": 4,
      "outputs": [
        {
          "output_type": "stream",
          "name": "stdout",
          "text": [
            "0\n",
            "2\n",
            "4\n",
            "6\n",
            "8\n",
            "10\n",
            "12\n",
            "14\n",
            "16\n",
            "18\n",
            "20\n",
            "22\n",
            "24\n",
            "26\n",
            "28\n",
            "30\n",
            "32\n",
            "34\n",
            "36\n",
            "38\n"
          ]
        }
      ]
    },
    {
      "cell_type": "markdown",
      "source": [
        "03_wholesome_machine"
      ],
      "metadata": {
        "id": "UcFYhCeqfOTu"
      }
    },
    {
      "cell_type": "code",
      "source": [
        "AFFIRMATION = \"I am strong and capable of achieving my goals.\"\n",
        "\n",
        "def main():\n",
        "    # Ask the user to type the affirmation\n",
        "    print(\"Please type the following affirmation: \" + AFFIRMATION)\n",
        "\n",
        "    # Get the user's input\n",
        "    user_feedback = input()\n",
        "\n",
        "    # Keep asking until the input is correct\n",
        "    while user_feedback != AFFIRMATION:\n",
        "        # If the input is incorrect, inform the user\n",
        "        print(\"That was not the affirmation.\")\n",
        "\n",
        "        # Ask again\n",
        "        print(\"Please type the following affirmation: \" + AFFIRMATION)\n",
        "        user_feedback = input()\n",
        "\n",
        "    # When the user types the correct affirmation\n",
        "    print(\"That's right! :)\")\n",
        "\n",
        "# Calling the main function\n",
        "if __name__ == '__main__':\n",
        "    main()\n"
      ],
      "metadata": {
        "id": "5c5dGxrUgXSG"
      },
      "execution_count": null,
      "outputs": []
    },
    {
      "cell_type": "markdown",
      "source": [
        "04_liftoff"
      ],
      "metadata": {
        "id": "UwY6Dtsbgghf"
      }
    },
    {
      "cell_type": "code",
      "source": [
        "def main():\n",
        "    # Loop from 10 down to 1\n",
        "    for i in range(10, 0, -1):\n",
        "        print(i)  # Print each number in the countdown\n",
        "\n",
        "    print(\"Liftoff!\")  # Print Liftoff after countdown ends\n",
        "\n",
        "# Call the main function\n",
        "if __name__ == '__main__':\n",
        "    main()\n"
      ],
      "metadata": {
        "colab": {
          "base_uri": "https://localhost:8080/"
        },
        "id": "Td-KVIVEghbu",
        "outputId": "fac31aa1-f5ab-424e-d015-c02bea309953"
      },
      "execution_count": 6,
      "outputs": [
        {
          "output_type": "stream",
          "name": "stdout",
          "text": [
            "10\n",
            "9\n",
            "8\n",
            "7\n",
            "6\n",
            "5\n",
            "4\n",
            "3\n",
            "2\n",
            "1\n",
            "Liftoff!\n"
          ]
        }
      ]
    },
    {
      "cell_type": "markdown",
      "source": [
        "05_double_it"
      ],
      "metadata": {
        "id": "AqMOttjYg-NY"
      }
    },
    {
      "cell_type": "code",
      "source": [
        "def main():\n",
        "    # Ask the user for a number\n",
        "    curr_value = int(input(\"Enter a number: \"))  # We use int()\n",
        "\n",
        "    # Start a while loop to double the number until it's 100 or greater\n",
        "    while curr_value < 100:\n",
        "        # Double the value\n",
        "        curr_value *= 2\n",
        "\n",
        "        # Print the current value after doubling\n",
        "        print(curr_value)\n",
        "\n",
        "# Run the main function\n",
        "if __name__ == '__main__':\n",
        "    main()\n"
      ],
      "metadata": {
        "colab": {
          "base_uri": "https://localhost:8080/"
        },
        "id": "NiyjF50khBep",
        "outputId": "f2cc7a66-6354-467f-c1fa-fe8c678235e8"
      },
      "execution_count": 7,
      "outputs": [
        {
          "output_type": "stream",
          "name": "stdout",
          "text": [
            "Enter a number: 6\n",
            "12\n",
            "24\n",
            "48\n",
            "96\n",
            "192\n"
          ]
        }
      ]
    }
  ]
}