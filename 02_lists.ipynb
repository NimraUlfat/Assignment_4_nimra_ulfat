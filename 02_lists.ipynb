{
  "nbformat": 4,
  "nbformat_minor": 0,
  "metadata": {
    "colab": {
      "provenance": [],
      "authorship_tag": "ABX9TyPEJApAqHum7t2P1UmjPJP5",
      "include_colab_link": true
    },
    "kernelspec": {
      "name": "python3",
      "display_name": "Python 3"
    },
    "language_info": {
      "name": "python"
    }
  },
  "cells": [
    {
      "cell_type": "markdown",
      "metadata": {
        "id": "view-in-github",
        "colab_type": "text"
      },
      "source": [
        "<a href=\"https://colab.research.google.com/github/NimraUlfat/Assignment_4_nimra_ulfat/blob/main/02_lists.ipynb\" target=\"_parent\"><img src=\"https://colab.research.google.com/assets/colab-badge.svg\" alt=\"Open In Colab\"/></a>"
      ]
    },
    {
      "cell_type": "markdown",
      "source": [
        "# 02_lists"
      ],
      "metadata": {
        "id": "kAWDItOi2BK2"
      }
    },
    {
      "cell_type": "markdown",
      "source": [
        "01_add_many_number"
      ],
      "metadata": {
        "id": "yNE6S5Hw5F_Q"
      }
    },
    {
      "cell_type": "code",
      "source": [
        "def add_many_numbers(numbers) -> int:\n",
        "    \"\"\"\n",
        "    Takes in a list of numbers and returns the sum of those numbers.\n",
        "    \"\"\"\n",
        "\n",
        "    total_so_far: int = 0\n",
        "    for number in numbers:\n",
        "        total_so_far += number  # Add each individual number to the total\n",
        "    return total_so_far  # Return the sum after the loop completes\n",
        "\n",
        "def main():\n",
        "    # List of numbers to sum\n",
        "    numbers: list[int] = [1, 2, 3, 4, 5]\n",
        "    # Call the function to get the sum\n",
        "    sum_of_numbers: int = add_many_numbers(numbers)\n",
        "    # Print the result (should print 15)\n",
        "    print(sum_of_numbers)\n",
        "\n",
        " # Run the main function\n",
        "if __name__ == '__main__':\n",
        "    main()\n"
      ],
      "metadata": {
        "colab": {
          "base_uri": "https://localhost:8080/"
        },
        "id": "wvK8zqfr5Kjx",
        "outputId": "09334caf-5f46-42b5-8ee4-e97913a4cfbd"
      },
      "execution_count": null,
      "outputs": [
        {
          "output_type": "stream",
          "name": "stdout",
          "text": [
            "15\n"
          ]
        }
      ]
    },
    {
      "cell_type": "markdown",
      "source": [
        "02_double_list"
      ],
      "metadata": {
        "id": "Qbh56-u92Url"
      }
    },
    {
      "cell_type": "code",
      "source": [
        "def main():\n",
        "    # Creates a list of numbers\n",
        "    numbers: list[int] = [1, 2, 3, 4]\n",
        "    # Loop through the indices of the list\n",
        "    for i in range(len(numbers)):\n",
        "         # Get the element at index i in the numbers list\n",
        "        elem_at_index = numbers[i]\n",
        "         # Set the element at index i to be equal to the previous element times 2\n",
        "        numbers[i] = elem_at_index * 2\n",
        "     # This should print the doubled list\n",
        "    print(numbers)\n",
        "\n",
        "# Call the function\n",
        "\n",
        "if __name__ == '__main__':\n",
        "    main()\n"
      ],
      "metadata": {
        "colab": {
          "base_uri": "https://localhost:8080/"
        },
        "id": "YlGoWsWk2Ykg",
        "outputId": "26faf5de-d35d-4296-de50-cde80d1c9c5b"
      },
      "execution_count": 1,
      "outputs": [
        {
          "output_type": "stream",
          "name": "stdout",
          "text": [
            "[2, 4, 6, 8]\n"
          ]
        }
      ]
    },
    {
      "cell_type": "markdown",
      "source": [
        "03_erase_canvas"
      ],
      "metadata": {
        "id": "sQNhjTAb2i1Z"
      }
    },
    {
      "cell_type": "code",
      "source": [
        "import tkinter as tk\n",
        "\n",
        "CANVAS_WIDTH = 400\n",
        "CANVAS_HEIGHT = 400\n",
        "CELL_SIZE = 40\n",
        "ERASER_SIZE = 20\n",
        "\n",
        "def erase_objects(canvas, eraser):\n",
        "    \"\"\"Erase objects in contact with the eraser\"\"\"\n",
        "    mouse_x = canvas.winfo_pointerx() - canvas.winfo_rootx()  # Get mouse x coordinate relative to canvas\n",
        "    mouse_y = canvas.winfo_pointery() - canvas.winfo_rooty()  # Get mouse y coordinate relative to canvas\n",
        "\n",
        "    # Calculate where our eraser is\n",
        "    left_x = mouse_x - ERASER_SIZE // 2\n",
        "    top_y = mouse_y - ERASER_SIZE // 2\n",
        "    right_x = left_x + ERASER_SIZE\n",
        "    bottom_y = top_y + ERASER_SIZE\n",
        "\n",
        "    # Find objects (cells) that overlap with our eraser\n",
        "    overlapping_objects = canvas.find_overlapping(left_x, top_y, right_x, bottom_y)\n",
        "\n",
        "    # Change the color of overlapping objects to white\n",
        "    for overlapping_object in overlapping_objects:\n",
        "        canvas.itemconfig(overlapping_object, fill=\"white\")\n",
        "\n",
        "def main():\n",
        "    root = tk.Tk()\n",
        "    root.title(\"Canvas with Eraser\")\n",
        "\n",
        "    canvas = tk.Canvas(root, width=CANVAS_WIDTH, height=CANVAS_HEIGHT)\n",
        "    canvas.pack()\n",
        "\n",
        "    # Draw a grid of blue cells\n",
        "    num_rows = CANVAS_HEIGHT // CELL_SIZE\n",
        "    num_cols = CANVAS_WIDTH // CELL_SIZE\n",
        "\n",
        "    for row in range(num_rows):\n",
        "        for col in range(num_cols):\n",
        "            left_x = col * CELL_SIZE\n",
        "            top_y = row * CELL_SIZE\n",
        "            right_x = left_x + CELL_SIZE\n",
        "            bottom_y = top_y + CELL_SIZE\n",
        "            canvas.create_rectangle(left_x, top_y, right_x, bottom_y, fill=\"blue\")\n",
        "\n",
        "    # Create an eraser (initially a pink square)\n",
        "    eraser = canvas.create_rectangle(0, 0, ERASER_SIZE, ERASER_SIZE, fill=\"pink\")\n",
        "\n",
        "    def move_eraser(event):\n",
        "        # Move the eraser to the current mouse position\n",
        "        canvas.coords(eraser, event.x - ERASER_SIZE // 2, event.y - ERASER_SIZE // 2, event.x + ERASER_SIZE // 2, event.y + ERASER_SIZE // 2)\n",
        "        erase_objects(canvas, eraser)  # Erase objects touching the eraser\n",
        "\n",
        "    # Bind mouse movement to the move_eraser function\n",
        "    canvas.bind(\"<Motion>\", move_eraser)\n",
        "\n",
        "    root.mainloop()\n",
        "\n",
        "if __name__ == '__main__':\n",
        "    main()\n"
      ],
      "metadata": {
        "id": "JLbWVq6T2_zf"
      },
      "execution_count": null,
      "outputs": []
    },
    {
      "cell_type": "markdown",
      "source": [
        "04_flowing_with_data_structures"
      ],
      "metadata": {
        "id": "gZB_go6w3CAZ"
      }
    },
    {
      "cell_type": "code",
      "source": [
        "def add_three_copies(my_list, data):\n",
        "      # Add three copies of the data to the list\n",
        "    for i in range(3):\n",
        "        my_list.append(data)\n",
        "\n",
        "\n",
        "def main():\n",
        "    # Take user input for the message\n",
        "    message = input(\"Enter a message to copy: \")\n",
        "     # Initialize an empty list\n",
        "    my_list = []\n",
        "     # Display the list before adding data\n",
        "    print(\"List before:\", my_list)\n",
        "    # Call the function to add three copies of the message\n",
        "    add_three_copies(my_list, message)\n",
        "     # Display the list after adding data\n",
        "    print(\"List after:\", my_list)\n",
        "\n",
        "if __name__ == \"__main__\":\n",
        "    main()"
      ],
      "metadata": {
        "colab": {
          "base_uri": "https://localhost:8080/"
        },
        "id": "V8cUrtCJ3JqY",
        "outputId": "efe1546c-cef7-4cdf-93b5-0b535ba8f386"
      },
      "execution_count": 11,
      "outputs": [
        {
          "output_type": "stream",
          "name": "stdout",
          "text": [
            "Enter a message to copy: nimra\n",
            "List before: []\n",
            "List after: ['nimra', 'nimra', 'nimra']\n"
          ]
        }
      ]
    },
    {
      "cell_type": "markdown",
      "source": [
        "05_get_first_element"
      ],
      "metadata": {
        "id": "Sjt2KUtP3O3A"
      }
    },
    {
      "cell_type": "code",
      "source": [
        "\n",
        "def get_first_element(lst):\n",
        "    \"\"\"\n",
        "    Prints the first element of a provided list.\n",
        "    \"\"\"\n",
        "\n",
        "    print(lst[0])\n",
        "\n",
        "\n",
        "\n",
        "def get_lst():\n",
        "    \"\"\"\n",
        "    Prompts the user to enter one element of the list at a time and returns the resulting list.\n",
        "    \"\"\"\n",
        "    lst = []\n",
        "    elem: str = input(\"Please enter an element of the list or press enter to stop. \")\n",
        "    while elem != \"\":\n",
        "        lst.append(elem)\n",
        "        elem = input(\"Please enter an element of the list or press enter to stop. \")\n",
        "    return lst\n",
        "\n",
        "def main():\n",
        "    lst = get_lst()\n",
        "    get_first_element(lst)\n",
        "\n",
        "\n",
        "if __name__ == '__main__':\n",
        "    main()\n",
        "\n"
      ],
      "metadata": {
        "colab": {
          "base_uri": "https://localhost:8080/"
        },
        "id": "41Vo81W23S5B",
        "outputId": "05625d0c-b26b-426e-f03d-3a8cdbb9b2ab"
      },
      "execution_count": 12,
      "outputs": [
        {
          "output_type": "stream",
          "name": "stdout",
          "text": [
            "Please enter an element of the list or press enter to stop. Apple\n",
            "Please enter an element of the list or press enter to stop. Banana\n",
            "Please enter an element of the list or press enter to stop. Orange\n",
            "Please enter an element of the list or press enter to stop. \n",
            "Apple\n"
          ]
        }
      ]
    },
    {
      "cell_type": "markdown",
      "source": [
        "06_get_last_element"
      ],
      "metadata": {
        "id": "u5p16KMY3qsz"
      }
    },
    {
      "cell_type": "code",
      "source": [],
      "metadata": {
        "id": "KcUgzjJv3u4P"
      },
      "execution_count": null,
      "outputs": []
    },
    {
      "cell_type": "code",
      "source": [
        "def get_last_element(lst):\n",
        "    \"\"\"\n",
        "    Prints the last element of the provided list.\n",
        "    \"\"\"\n",
        "    # Option 1: Using len(lst) - 1 to access the last element\n",
        "    print(lst[len(lst) - 1])\n",
        "\n",
        "    # Option 2: Simpler and cleaner way using negative indexing (uncomment if preferred)\n",
        "    # print(lst[-1])\n",
        "\n",
        "def get_lst():\n",
        "    \"\"\"\n",
        "    Prompts the user to enter one element of the list at a time and returns the resulting list.\n",
        "    \"\"\"\n",
        "    lst = []\n",
        "    elem = input(\"Please enter an element of the list or press enter to stop: \")\n",
        "\n",
        "    while elem != \"\":\n",
        "        lst.append(elem)\n",
        "        elem = input(\"Please enter an element of the list or press enter to stop: \")\n",
        "\n",
        "    return lst\n",
        "\n",
        "def main():\n",
        "    lst = get_lst()  # Get the list from the user\n",
        "    get_last_element(lst)  # Call function to print the last element\n",
        "\n",
        "\n",
        "if __name__ == '__main__':\n",
        "    main()"
      ],
      "metadata": {
        "colab": {
          "base_uri": "https://localhost:8080/"
        },
        "id": "SYiJue6k3vsa",
        "outputId": "207fca75-2a84-43cd-dde2-3774a6287d3a"
      },
      "execution_count": 13,
      "outputs": [
        {
          "output_type": "stream",
          "name": "stdout",
          "text": [
            "Please enter an element of the list or press enter to stop: 6\n",
            "Please enter an element of the list or press enter to stop: 9\n",
            "Please enter an element of the list or press enter to stop: 0\n",
            "Please enter an element of the list or press enter to stop: \n",
            "0\n"
          ]
        }
      ]
    },
    {
      "cell_type": "markdown",
      "source": [
        "07_get_list"
      ],
      "metadata": {
        "id": "Gc0Zl11U38Jh"
      }
    },
    {
      "cell_type": "code",
      "source": [
        "def main():\n",
        "    # Initialize an empty list to store the values\n",
        "    lst = []\n",
        "\n",
        "    # Prompt user for an initial value\n",
        "    val = input(\"Enter a value: \")\n",
        "    while val:  # Keep running the loop until the user enters an empty string\n",
        "        lst.append(val)  # Add the value to the list\n",
        "        val = input(\"Enter a value: \")  # Prompt user for the next value\n",
        "\n",
        "    print(\"Here's the list:\", lst)  # Print the list when user presses enter without typing anything\n",
        "\n",
        "\n",
        "if __name__ == '__main__':\n",
        "    main()\n"
      ],
      "metadata": {
        "colab": {
          "base_uri": "https://localhost:8080/"
        },
        "id": "tUbqAHCI3_gl",
        "outputId": "fc5bd80d-073b-40e0-c4b5-017c97d47bbc"
      },
      "execution_count": 15,
      "outputs": [
        {
          "output_type": "stream",
          "name": "stdout",
          "text": [
            "Enter a value: NImra\n",
            "Enter a value: Ahmed\n",
            "Enter a value: Gull\n",
            "Enter a value: \n",
            "Here's the list: ['NImra', 'Ahmed', 'Gull']\n"
          ]
        }
      ]
    },
    {
      "cell_type": "markdown",
      "source": [
        "08_shorten"
      ],
      "metadata": {
        "id": "VvP9qZZw4R6z"
      }
    },
    {
      "cell_type": "code",
      "source": [
        "MAX_LENGTH = 3  # Set the maximum length of the list\n",
        "\n",
        "def shorten(lst):\n",
        "    \"\"\"\n",
        "    Removes elements from the end of the list until it has MAX_LENGTH items.\n",
        "    Prints each item it removes.\n",
        "    \"\"\"\n",
        "    while len(lst) > MAX_LENGTH:\n",
        "        last_elem = lst.pop()  # Remove the last element from the list\n",
        "        print(last_elem)  # Print the element that was removed\n",
        "\n",
        "def get_lst():\n",
        "    \"\"\"\n",
        "    Prompts the user to enter one element of the list at a time and returns the resulting list.\n",
        "    \"\"\"\n",
        "    lst = []\n",
        "    elem = input(\"Please enter an element of the list or press enter to stop: \")\n",
        "    while elem != \"\":\n",
        "        lst.append(elem)\n",
        "        elem = input(\"Please enter an element of the list or press enter to stop: \")\n",
        "    return lst\n",
        "\n",
        "def main():\n",
        "    lst = get_lst()  # Get the list from the user\n",
        "    shorten(lst)  # Call the shorten function to trim the list\n",
        "\n",
        "\n",
        "if __name__ == '__main__':\n",
        "    main()\n",
        "\n",
        "\n",
        "\n"
      ],
      "metadata": {
        "colab": {
          "base_uri": "https://localhost:8080/"
        },
        "id": "tFix-30n4VmQ",
        "outputId": "80718018-5a77-411a-a9ac-7fe363cdf555"
      },
      "execution_count": 16,
      "outputs": [
        {
          "name": "stdout",
          "output_type": "stream",
          "text": [
            "Please enter an element of the list or press enter to stop: 7\n",
            "Please enter an element of the list or press enter to stop: 8\n",
            "Please enter an element of the list or press enter to stop: 9\n",
            "Please enter an element of the list or press enter to stop: \n"
          ]
        }
      ]
    }
  ]
}