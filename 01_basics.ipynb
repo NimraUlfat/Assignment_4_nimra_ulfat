{
  "nbformat": 4,
  "nbformat_minor": 0,
  "metadata": {
    "colab": {
      "provenance": [],
      "authorship_tag": "ABX9TyP1M55XDl50Ai9lKWW8ZL4U",
      "include_colab_link": true
    },
    "kernelspec": {
      "name": "python3",
      "display_name": "Python 3"
    },
    "language_info": {
      "name": "python"
    }
  },
  "cells": [
    {
      "cell_type": "markdown",
      "metadata": {
        "id": "view-in-github",
        "colab_type": "text"
      },
      "source": [
        "<a href=\"https://colab.research.google.com/github/NimraUlfat/Assignment_4_nimra_ulfat/blob/main/01_basics.ipynb\" target=\"_parent\"><img src=\"https://colab.research.google.com/assets/colab-badge.svg\" alt=\"Open In Colab\"/></a>"
      ]
    },
    {
      "cell_type": "markdown",
      "source": [
        "# 01_basics"
      ],
      "metadata": {
        "id": "Eu8dGtlnp3dY"
      }
    },
    {
      "cell_type": "markdown",
      "source": [
        "00_joke_bot"
      ],
      "metadata": {
        "id": "6bXws3LTp7tt"
      }
    },
    {
      "cell_type": "code",
      "source": [
        "# Constants\n",
        "PROMPT: str = \"What do you want? \"\n",
        "JOKE: str = \"Why do programmers prefer dark mode? Because the light attracts bugs!\"\n",
        "SORRY: str = \"Sorry I only tell jokes.\"\n",
        "\n",
        "def main():\n",
        "    # Prompt the user for input\n",
        "    user_input = input(PROMPT).strip().lower()  # Get user input, remove any extra spaces, and convert to lowercase\n",
        "\n",
        "    # Check if the input is \"joke\"\n",
        "    if user_input == \"joke\":\n",
        "        print(JOKE)  # Print the joke if user input is \"joke\"\n",
        "    else:\n",
        "        print(SORRY)  # Print the sorry message if user input is anything else\n",
        "\n",
        "# Call the main function\n",
        "if __name__ == \"__main__\":\n",
        "    main()\n"
      ],
      "metadata": {
        "colab": {
          "base_uri": "https://localhost:8080/"
        },
        "id": "Jj3-PoxhsAmw",
        "outputId": "6669ac2d-299c-4fd8-dbb2-1d27a7280acf"
      },
      "execution_count": 6,
      "outputs": [
        {
          "output_type": "stream",
          "name": "stdout",
          "text": [
            "What do you want? joke\n",
            "Why do programmers prefer dark mode? Because the light attracts bugs!\n"
          ]
        }
      ]
    },
    {
      "cell_type": "markdown",
      "source": [
        "01_double_it"
      ],
      "metadata": {
        "id": "und01Z9hsTcH"
      }
    },
    {
      "cell_type": "code",
      "source": [
        "def main():\n",
        "    # Ask the user to input a number\n",
        "    curr_value = int(input(\"Enter a number: \"))\n",
        "\n",
        "    # Keep doubling the number until it's 100 or greater\n",
        "    while curr_value < 100:\n",
        "        curr_value = curr_value * 2\n",
        "        print(curr_value, end=\" \")\n",
        "\n",
        "# Call the function\n",
        "if __name__ == '__main__':\n",
        "    main()\n"
      ],
      "metadata": {
        "colab": {
          "base_uri": "https://localhost:8080/"
        },
        "id": "aEV9YbSMsZLL",
        "outputId": "530c1fe5-51cd-4163-d6ae-75609e50dcde"
      },
      "execution_count": 7,
      "outputs": [
        {
          "output_type": "stream",
          "name": "stdout",
          "text": [
            "Enter a number: 6\n",
            "12 24 48 96 192 "
          ]
        }
      ]
    },
    {
      "cell_type": "markdown",
      "source": [
        "02_liftoff"
      ],
      "metadata": {
        "id": "Y8h-nEQ_uFWK"
      }
    },
    {
      "cell_type": "code",
      "source": [
        "def main():\n",
        "    # Loop to countdown from 10 to 1\n",
        "    for number in range(10, 0, -1):\n",
        "        print(number, end=\" \")\n",
        "\n",
        "    # After the countdown print Liftoff\n",
        "    print(\"Liftoff!\")\n",
        "\n",
        "# Call the main function\n",
        "if __name__ == '__main__':\n",
        "    main()\n"
      ],
      "metadata": {
        "colab": {
          "base_uri": "https://localhost:8080/"
        },
        "id": "fZiPUJKuuI4H",
        "outputId": "6994a887-e70b-447d-95e9-6df6a48eab42"
      },
      "execution_count": 8,
      "outputs": [
        {
          "output_type": "stream",
          "name": "stdout",
          "text": [
            "10 9 8 7 6 5 4 3 2 1 Liftoff!\n"
          ]
        }
      ]
    },
    {
      "cell_type": "markdown",
      "source": [
        "03_guess_my_number"
      ],
      "metadata": {
        "id": "7QShXFFrupdX"
      }
    },
    {
      "cell_type": "code",
      "source": [
        "import random\n",
        "\n",
        "def main():\n",
        "    # Generate the secret number at random\n",
        "    secret_number = random.randint(1, 99)\n",
        "\n",
        "    print(\"I am thinking of a number between 1 and 99...\")\n",
        "\n",
        "    # Get user's first guess\n",
        "    guess = int(input(\"Enter a guess: \"))\n",
        "\n",
        "    # Keep asking until the guess is correct\n",
        "    while guess != secret_number:\n",
        "        if guess < secret_number:\n",
        "            print(\"Your guess is too low\")\n",
        "        else:\n",
        "            print(\"Your guess is too high\")\n",
        "\n",
        "        # Ask for a new guess\n",
        "        guess = int(input(\"Enter a new guess: \"))\n",
        "\n",
        "    print(f\"Congrats! The number was: {secret_number}\")\n",
        "\n",
        "# Call the main function\n",
        "if __name__ == '__main__':\n",
        "    main()\n"
      ],
      "metadata": {
        "colab": {
          "base_uri": "https://localhost:8080/"
        },
        "id": "p00LVCvzutr7",
        "outputId": "91391e37-44ca-49c2-88ae-0349fc48697f"
      },
      "execution_count": 10,
      "outputs": [
        {
          "output_type": "stream",
          "name": "stdout",
          "text": [
            "I am thinking of a number between 1 and 99...\n",
            "Enter a guess: 6\n",
            "Your guess is too high\n",
            "Enter a new guess: 60\n",
            "Your guess is too high\n",
            "Enter a new guess: 600\n",
            "Your guess is too high\n",
            "Enter a new guess: 65\n",
            "Your guess is too high\n",
            "Enter a new guess: 48\n",
            "Your guess is too high\n",
            "Enter a new guess: 43\n",
            "Your guess is too high\n",
            "Enter a new guess: 24\n",
            "Your guess is too high\n",
            "Enter a new guess: 12\n",
            "Your guess is too high\n",
            "Enter a new guess: 78\n",
            "Your guess is too high\n",
            "Enter a new guess: 25\n",
            "Your guess is too high\n",
            "Enter a new guess: 48\n",
            "Your guess is too high\n",
            "Enter a new guess: 14\n",
            "Your guess is too high\n",
            "Enter a new guess: 2\n",
            "Your guess is too high\n",
            "Enter a new guess: 1\n",
            "Congrats! The number was: 1\n"
          ]
        }
      ]
    },
    {
      "cell_type": "markdown",
      "source": [
        "04_random_numbers"
      ],
      "metadata": {
        "id": "CFhsH96pviKZ"
      }
    },
    {
      "cell_type": "code",
      "source": [
        "import random\n",
        "\n",
        "N_NUMBERS = 10\n",
        "MIN_VALUE = 1\n",
        "MAX_VALUE = 100\n",
        "\n",
        "def main():\n",
        "    # Generate 10 random numbers and print them\n",
        "    for _ in range(N_NUMBERS):\n",
        "        # Generate a random number between MIN_VALUE and MAX_VALUE\n",
        "        print(random.randint(MIN_VALUE, MAX_VALUE), end=\" \")\n",
        "\n",
        "# Call the main function\n",
        "if __name__ == '__main__':\n",
        "    main()\n"
      ],
      "metadata": {
        "colab": {
          "base_uri": "https://localhost:8080/"
        },
        "id": "eo7S57GHvmjk",
        "outputId": "58238f98-5b19-479c-a626-7e4fc5e8781b"
      },
      "execution_count": 11,
      "outputs": [
        {
          "output_type": "stream",
          "name": "stdout",
          "text": [
            "16 53 19 22 96 76 8 60 24 14 "
          ]
        }
      ]
    }
  ]
}