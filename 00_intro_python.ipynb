{
  "nbformat": 4,
  "nbformat_minor": 0,
  "metadata": {
    "colab": {
      "provenance": [],
      "authorship_tag": "ABX9TyM0JIIX7dlKTx1G0Sf2NQah",
      "include_colab_link": true
    },
    "kernelspec": {
      "name": "python3",
      "display_name": "Python 3"
    },
    "language_info": {
      "name": "python"
    }
  },
  "cells": [
    {
      "cell_type": "markdown",
      "metadata": {
        "id": "view-in-github",
        "colab_type": "text"
      },
      "source": [
        "<a href=\"https://colab.research.google.com/github/NimraUlfat/Assignment_4_nimra_ulfat/blob/main/00_intro_python.ipynb\" target=\"_parent\"><img src=\"https://colab.research.google.com/assets/colab-badge.svg\" alt=\"Open In Colab\"/></a>"
      ]
    },
    {
      "cell_type": "markdown",
      "source": [
        "### 00_intro_python"
      ],
      "metadata": {
        "id": "nboI07PTrViF"
      }
    },
    {
      "cell_type": "markdown",
      "source": [
        "01_add_two_numbers"
      ],
      "metadata": {
        "id": "tVj0Py2_rZjT"
      }
    },
    {
      "cell_type": "code",
      "source": [
        "def main():\n",
        "    # Enter the first number\n",
        "    first_number = input(\"Enter the first number\")\n",
        "    # Convert into an integer\n",
        "    first_number = int(first_number)\n",
        "    #Enter the second number\n",
        "    second_number = input(\"Enter the second number\")\n",
        "    # Convert into integer\n",
        "    second_number = int(second_number)\n",
        "    # Calculate the sum of two numbers\n",
        "    totalSum = first_number + second_number\n",
        "    # Print the total sum\n",
        "    print(\"The sum of {} and {} is: {}\".format(first_number, second_number, totalSum))\n",
        "# Call the main function\n",
        "if __name__ == \"__main__\":\n",
        "        main()"
      ],
      "metadata": {
        "colab": {
          "base_uri": "https://localhost:8080/"
        },
        "id": "Jc6zivMXrjMo",
        "outputId": "47cbe037-fb64-4eda-d7ac-8e0db6f46e6f"
      },
      "execution_count": 1,
      "outputs": [
        {
          "output_type": "stream",
          "name": "stdout",
          "text": [
            "Enter the first number5\n",
            "Enter the second number7\n",
            "The sum of 5 and 7 is: 12\n"
          ]
        }
      ]
    },
    {
      "cell_type": "markdown",
      "source": [
        "02_agreement_bot"
      ],
      "metadata": {
        "id": "UlRUOZ3Cta2z"
      }
    },
    {
      "cell_type": "code",
      "source": [
        "def main():\n",
        "    # Enter your favourte animal\n",
        "    my_favourite_animal = input(\"What's your favourite animal?\")\n",
        "    # Print favurite animal\n",
        "    print(f\"My favourite animal is also {my_favourite_animal}!\")\n",
        "# Call the function\n",
        "if __name__ == '__main__':\n",
        "    main()"
      ],
      "metadata": {
        "colab": {
          "base_uri": "https://localhost:8080/"
        },
        "id": "OFOJVrTftkVI",
        "outputId": "3b2790e6-37db-4ff0-a2d1-d1c5fc45fe30"
      },
      "execution_count": 2,
      "outputs": [
        {
          "output_type": "stream",
          "name": "stdout",
          "text": [
            "What's your favourite animal?Cow\n",
            "My favourite animal is also Cow!\n"
          ]
        }
      ]
    },
    {
      "cell_type": "markdown",
      "source": [
        "03_fahrenheit_to_celsius"
      ],
      "metadata": {
        "id": "ryq7GKNrtynt"
      }
    },
    {
      "cell_type": "code",
      "source": [
        "def main():\n",
        "    # Enter the fahrenheit temperature\n",
        "    fahrenheit = float(input(\"Enter temperature in Fahrenheit:\"))\n",
        "    # Convert Fahrenheit to Celsius\n",
        "    celsisus = (fahrenheit - 32) * 5.0 / 9.0\n",
        "    # Print both Fahrenheit and Celsius\n",
        "    print(f\"Temperature {fahrenheit}F = {celsisus}C\")\n",
        "# Print Temperature\n",
        "if __name__ == '__main__':\n",
        "    main()\n"
      ],
      "metadata": {
        "colab": {
          "base_uri": "https://localhost:8080/"
        },
        "id": "F3HAU-8Ht5y1",
        "outputId": "62e593da-2e65-4e7d-e9a3-6eaa374481a9"
      },
      "execution_count": 3,
      "outputs": [
        {
          "output_type": "stream",
          "name": "stdout",
          "text": [
            "Enter temperature in Fahrenheit:40\n",
            "Temperature 40.0F = 4.444444444444445C\n"
          ]
        }
      ]
    },
    {
      "cell_type": "markdown",
      "source": [
        "04_how_old_are_they"
      ],
      "metadata": {
        "id": "krXQIEoFuHsP"
      }
    },
    {
      "cell_type": "code",
      "source": [
        "def main():\n",
        "    # Store the ages\n",
        "    anthon_age = 21\n",
        "    beth_age = anthon_age + 6\n",
        "    chen_age = beth_age + 20\n",
        "    drew_age = chen_age + anthon_age\n",
        "    ethan_age = chen_age\n",
        "    # Print the name and ages\n",
        "    print(f\"Anthon is {anthon_age} years old.\")\n",
        "    print(f\"Beth is {beth_age} years old.\")\n",
        "    print(f\"Chen is {chen_age} years old.\")\n",
        "    print(f\"Drew is {drew_age} years old.\")\n",
        "    print(f\"Ethan is {ethan_age} years old.\")\n",
        "\n",
        "if __name__ == '__main__':\n",
        "    main()"
      ],
      "metadata": {
        "colab": {
          "base_uri": "https://localhost:8080/"
        },
        "id": "16q3r5ezuM14",
        "outputId": "3a47ff37-18de-43c8-841d-de50b3b2f00c"
      },
      "execution_count": 4,
      "outputs": [
        {
          "output_type": "stream",
          "name": "stdout",
          "text": [
            "Anthon is 21 years old.\n",
            "Beth is 27 years old.\n",
            "Chen is 47 years old.\n",
            "Drew is 68 years old.\n",
            "Ethan is 47 years old.\n"
          ]
        }
      ]
    },
    {
      "cell_type": "markdown",
      "source": [
        "05_triangle_perimeter"
      ],
      "metadata": {
        "id": "7sgY2_lRuavc"
      }
    },
    {
      "cell_type": "code",
      "source": [
        "def main():\n",
        "    # Enter the lengths of each side of the triangle\n",
        "    side1 = float(input(\"What is length of side 1? \\033[1;3m\"))\n",
        "    side2 = float(input(\"What is length of side 2? \\033[1;3m\"))\n",
        "    side3 = float(input(\"What is length of side 3? \\033[1;3m\"))\n",
        "    # Print in ittalic\n",
        "    print(\"\\033[0m\", end=\"\")\n",
        "    # Calculate the perimeter\n",
        "    perimeter = side1 + side2 + side3\n",
        "    # Print the perimeter of the triangle\n",
        "    print(f\"The perimeter of the Triangle is\" + str(perimeter))\n",
        "\n",
        "# Call the function\n",
        "if __name__ == '__main__':\n",
        "    main()"
      ],
      "metadata": {
        "colab": {
          "base_uri": "https://localhost:8080/"
        },
        "id": "UgABK3W0ufcE",
        "outputId": "9e10cf8e-b783-4e3c-dfaa-95f4bb85b33d"
      },
      "execution_count": 5,
      "outputs": [
        {
          "output_type": "stream",
          "name": "stdout",
          "text": [
            "What is length of side 1? \u001b[1;3m4\n",
            "What is length of side 2? \u001b[1;3m5\n",
            "What is length of side 3? \u001b[1;3m6\n",
            "\u001b[0mThe perimeter of the Triangle is15.0\n"
          ]
        }
      ]
    },
    {
      "cell_type": "markdown",
      "source": [
        "06_square_number"
      ],
      "metadata": {
        "id": "nS-oJD3Fu13W"
      }
    },
    {
      "cell_type": "code",
      "source": [
        "def main():\n",
        "    # Ask the user for a number\n",
        "    number = float(input(\"Type a number to see its square\"))\n",
        "    # Calculate the square of the number\n",
        "    square = number * number\n",
        "    # Print the result\n",
        "    print(f\"{square} squared is {number}\")\n",
        "\n",
        "# Call the function\n",
        "if __name__ == '__main__':\n",
        "    main()"
      ],
      "metadata": {
        "colab": {
          "base_uri": "https://localhost:8080/"
        },
        "id": "W_kGCtT1u72j",
        "outputId": "59c0cdd3-8f8b-49b1-8135-bd9549db10fc"
      },
      "execution_count": 6,
      "outputs": [
        {
          "output_type": "stream",
          "name": "stdout",
          "text": [
            "Type a number to see its square4\n",
            "16.0 squared is 4.0\n"
          ]
        }
      ]
    }
  ]
}